{
 "cells": [
  {
   "cell_type": "markdown",
   "id": "d59dc6ac-93e0-4b99-aeb0-685620dd1414",
   "metadata": {},
   "source": [
    "Consider a fair dice with the sample space $\\Omega = \\{1, 2, 3, 4, 5, 6\\}$. Let $A$ and $B$ be some events consisting of a set of outcomes. Verify with the definition of independence \n",
    "\\begin{equation}\n",
    "    P(A \\cap B) = P(A)P(B),\n",
    "\\end{equation}\n",
    "by simulating different cases. Finally, compare the simulated results with the theoretical value."
   ]
  },
  {
   "cell_type": "code",
   "execution_count": 224,
   "id": "00184d1a-6943-477c-b180-3dc5d114605c",
   "metadata": {},
   "outputs": [
    {
     "name": "stdout",
     "output_type": "stream",
     "text": [
      "[1 2 3 4 5 6] [4] 1.0 0.16666666666666666 0.16666666666666666 0.16666666666666666 True\n"
     ]
    }
   ],
   "source": [
    "from numpy import *\n",
    "from numpy.random import *\n",
    "#seed(0)\n",
    "\n",
    "Omega = array([1,2,3,4,5,6])\n",
    "size1 = randint(1, 7)\n",
    "size2 = randint(1, 7)\n",
    "\n",
    "def get_event(Omega, size):\n",
    "    return sort(choice(Omega, size, replace=False))\n",
    "\n",
    "def P(X):\n",
    "    return len(X) / len(Omega)\n",
    "\n",
    "A = get_event(Omega, size1)\n",
    "B = get_event(Omega, size2)\n",
    "AB = intersect1d(A, B)\n",
    "\n",
    "print(A, B, P(A), P(B), P(A) * P(B), P(AB), P(A) * P(B) == P(AB))"
   ]
  }
 ],
 "metadata": {
  "kernelspec": {
   "display_name": "Python 3",
   "language": "python",
   "name": "python3"
  },
  "language_info": {
   "codemirror_mode": {
    "name": "ipython",
    "version": 3
   },
   "file_extension": ".py",
   "mimetype": "text/x-python",
   "name": "python",
   "nbconvert_exporter": "python",
   "pygments_lexer": "ipython3",
   "version": "3.8.5"
  }
 },
 "nbformat": 4,
 "nbformat_minor": 5
}
