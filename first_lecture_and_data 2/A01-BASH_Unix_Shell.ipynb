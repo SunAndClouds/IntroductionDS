{
 "cells": [
  {
   "cell_type": "markdown",
   "metadata": {
    "deletable": false
   },
   "source": [
    "# [Introduction to Data Science](http://datascience-intro.github.io/1MS041-2023/)    \n",
    "## 1MS041, 2023 \n",
    "&copy;2023 Raazesh Sainudiin, Benny Avelin. [Attribution 4.0 International     (CC BY 4.0)](https://creativecommons.org/licenses/by/4.0/)"
   ]
  },
  {
   "cell_type": "markdown",
   "metadata": {},
   "source": [
    "# 01. BASH Unix Shell \n",
    "\n",
    "\n",
    "1. Dropping into BASH (Unix Shell) and using basic Shell commands\n",
    "    * `pwd` --- print working directory\n",
    "    * `ls` --- list files in current working directory\n",
    "    * `mkdir` --- make directory\n",
    "    * `cd` --- change directory\n",
    "    * `man ls` --- manual pages for any command\n",
    "    * `head` --- show the first lines of a file\n",
    "2. Grabbing files from the internet using `curl`"
   ]
  },
  {
   "cell_type": "code",
   "execution_count": 3,
   "metadata": {},
   "outputs": [
    {
     "data": {
      "text/html": [
       "\n",
       "        <iframe\n",
       "            width=\"95%\"\n",
       "            height=\"400\"\n",
       "            src=\"https://en.wikipedia.org/wiki/Bash_(Unix_shell)\"\n",
       "            frameborder=\"0\"\n",
       "            allowfullscreen\n",
       "        ></iframe>\n",
       "        "
      ],
      "text/plain": [
       "<IPython.lib.display.IFrame at 0x7f7ca000c1f0>"
      ]
     },
     "execution_count": 3,
     "metadata": {},
     "output_type": "execute_result"
    }
   ],
   "source": [
    "def showURL(url, ht=500):\n",
    "    \"\"\"Return an IFrame of the url to show in notebook with height ht\"\"\"\n",
    "    from IPython.display import IFrame \n",
    "    return IFrame(url, width='95%', height=ht) \n",
    "showURL('https://en.wikipedia.org/wiki/Bash_(Unix_shell)',400)"
   ]
  },
  {
   "cell_type": "markdown",
   "metadata": {},
   "source": [
    "## 1. Dropping into BASH (Unix Shell)\n",
    "\n",
    "Using `%%sh` in a code cell we can access the BASH (Unix Shell) command prompt.\n",
    "\n",
    "Let us `pwd` or print working directory."
   ]
  },
  {
   "cell_type": "code",
   "execution_count": 4,
   "metadata": {},
   "outputs": [
    {
     "name": "stdout",
     "output_type": "stream",
     "text": [
      "/Users/sunandclouds/IntroductionDS/first_lecture_and_data 2\n"
     ]
    }
   ],
   "source": [
    "%%sh\n",
    "pwd"
   ]
  },
  {
   "cell_type": "code",
   "execution_count": 5,
   "metadata": {},
   "outputs": [
    {
     "name": "stdout",
     "output_type": "stream",
     "text": [
      "01-Probability.ipynb\n",
      "A01-BASH_Unix_Shell.ipynb\n",
      "Utils.py\n",
      "images\n"
     ]
    }
   ],
   "source": [
    "%%sh\n",
    "# this is a comment in BASH shell as it is preceeded by '#'\n",
    "ls # list the contents of this working directory"
   ]
  },
  {
   "cell_type": "code",
   "execution_count": 7,
   "metadata": {},
   "outputs": [],
   "source": [
    "%%sh\n",
    "mkdir -p mydir"
   ]
  },
  {
   "cell_type": "code",
   "execution_count": 10,
   "metadata": {},
   "outputs": [
    {
     "name": "stdout",
     "output_type": "stream",
     "text": [
      "/Users/sunandclouds/IntroductionDS/first_lecture_and_data 2/mydir\n",
      "total 0\n",
      "drwxr-xr-x  2 sunandclouds  staff   64 Oct  9 21:45 .\n",
      "drwx------@ 8 sunandclouds  staff  256 Oct  9 21:46 ..\n"
     ]
    }
   ],
   "source": [
    "%%sh\n",
    "cd mydir\n",
    "pwd\n",
    "ls -al"
   ]
  },
  {
   "cell_type": "markdown",
   "metadata": {},
   "source": [
    "## \"Use the source\" by `man`-ning the unknown `command`\n",
    "\n",
    "By evaluating the next cell, you are using the `man`ual pages to find more about the command `ls`. You can learn more about any command called `command` by typing `man command` in the BASH shell.\n",
    "\n",
    "The output of the next cell with command `man ls` will look something like the following:\n",
    "\n",
    "```\n",
    "LS(1)                            User Commands                           LS(1)\n",
    "\n",
    "NAME\n",
    "       ls - list directory contents\n",
    "\n",
    "SYNOPSIS\n",
    "       ls [OPTION]... [FILE]...\n",
    "\n",
    "DESCRIPTION\n",
    "       List  information  about  the FILEs (the current directory by default).\n",
    "       Sort entries alphabetically if none of -cftuvSUX nor --sort  is  speci‐\n",
    "       fied.\n",
    "\n",
    "       Mandatory  arguments  to  long  options are mandatory for short options\n",
    "       too.\n",
    "\n",
    "       -a, --all\n",
    "              do not ignore entries starting with .\n",
    "\n",
    "       -A, --almost-all\n",
    "              do not list implied . and ..\n",
    "...\n",
    "...\n",
    "...\n",
    "   Exit status:\n",
    "       0      if OK,\n",
    "\n",
    "       1      if minor problems (e.g., cannot access subdirectory),\n",
    "\n",
    "       2      if serious trouble (e.g., cannot access command-line argument).\n",
    "\n",
    "AUTHOR\n",
    "       Written by Richard M. Stallman and David MacKenzie.\n",
    "\n",
    "REPORTING BUGS\n",
    "       GNU coreutils online help: <http://www.gnu.org/software/coreutils/>\n",
    "       Report ls translation bugs to <http://translationproject.org/team/>\n",
    "\n",
    "COPYRIGHT\n",
    "       Copyright © 2017 Free Software Foundation, Inc.   License  GPLv3+:  GNU\n",
    "       GPL version 3 or later <http://gnu.org/licenses/gpl.html>.\n",
    "       This  is  free  software:  you  are free to change and redistribute it.\n",
    "       There is NO WARRANTY, to the extent permitted by law.\n",
    "\n",
    "SEE ALSO\n",
    "       Full documentation at: <http://www.gnu.org/software/coreutils/ls>\n",
    "       or available locally via: info '(coreutils) ls invocation'\n",
    "\n",
    "GNU coreutils 8.28               January 2018                            LS(1)\n",
    "```"
   ]
  },
  {
   "cell_type": "code",
   "execution_count": 26,
   "metadata": {},
   "outputs": [
    {
     "name": "stdout",
     "output_type": "stream",
     "text": [
      "MKDIR(1)                    General Commands Manual                   MKDIR(1)\n",
      "\n",
      "NAME\n",
      "     mkdir – make directories\n",
      "\n",
      "SYNOPSIS\n",
      "     mkdir [-pv] [-m mode] directory_name ...\n",
      "\n",
      "DESCRIPTION\n",
      "     The mkdir utility creates the directories named as operands, in the order\n",
      "     specified, using mode “rwxrwxrwx” (0777) as modified by the current\n",
      "     umask(2).\n",
      "\n",
      "     The options are as follows:\n",
      "\n",
      "     -m mode        Set the file permission bits of the final created\n",
      "                    directory to the specified mode.  The mode argument can be\n",
      "                    in any of the formats specified to the chmod(1) command.\n",
      "                    If a symbolic mode is specified, the operation characters\n",
      "                    ‘+’ and ‘-’ are interpreted relative to an initial mode of\n",
      "                    “a=rwx”.\n",
      "\n",
      "     -p             Create intermediate directories as required.  If this\n",
      "                    option is not specified, the full path prefix of each\n",
      "                    operand must already exist.  On the other hand, with this\n",
      "                    option specified, no error will be reported if a directory\n",
      "                    given as an operand already exists.  Intermediate\n",
      "                    directories are created with permission bits of\n",
      "                    “rwxrwxrwx” (0777) as modified by the current umask, plus\n",
      "                    write and search permission for the owner.\n",
      "\n",
      "     -v             Be verbose when creating directories, listing them as they\n",
      "                    are created.\n",
      "\n",
      "     The user must have write permission in the parent directory.\n",
      "\n",
      "EXIT STATUS\n",
      "     The mkdir utility exits 0 on success, and >0 if an error occurs.\n",
      "\n",
      "EXAMPLES\n",
      "     Create a directory named foobar:\n",
      "\n",
      "           $ mkdir foobar\n",
      "\n",
      "     Create a directory named foobar and set its file mode to 700:\n",
      "\n",
      "           $ mkdir -m 700 foobar\n",
      "\n",
      "     Create a directory named cow/horse/monkey, creating any non-existent\n",
      "     intermediate directories as necessary:\n",
      "\n",
      "           $ mkdir -p cow/horse/monkey\n",
      "\n",
      "COMPATIBILITY\n",
      "     The -v option is non-standard and its use in scripts is not recommended.\n",
      "\n",
      "SEE ALSO\n",
      "     rmdir(1)\n",
      "\n",
      "STANDARDS\n",
      "     The mkdir utility is expected to be IEEE Std 1003.2 (“POSIX.2”)\n",
      "     compatible.\n",
      "\n",
      "HISTORY\n",
      "     A mkdir command appeared in Version 1 AT&T UNIX.\n",
      "\n",
      "macOS 13.4                      March 15, 2013                      macOS 13.4\n"
     ]
    }
   ],
   "source": [
    "%%sh\n",
    "## uncomment by removing '#' in the next line and try executing this cell\n",
    "man mkdir"
   ]
  },
  {
   "cell_type": "markdown",
   "metadata": {},
   "source": [
    "## 2. Grabbing files from internet using curl"
   ]
  },
  {
   "cell_type": "code",
   "execution_count": 27,
   "metadata": {},
   "outputs": [
    {
     "name": "stderr",
     "output_type": "stream",
     "text": [
      "  % Total    % Received % Xferd  Average Speed   Time    Time     Time  Current\n",
      "                                 Dload  Upload   Total   Spent    Left  Speed\n",
      "100 29323  100 29323    0     0  44227      0 --:--:-- --:--:-- --:--:-- 44227\n"
     ]
    }
   ],
   "source": [
    "%%sh\n",
    "cd mydir\n",
    "curl -O http://lamastex.org/datasets/public/SOU/sou/20170228.txt"
   ]
  },
  {
   "cell_type": "code",
   "execution_count": 28,
   "metadata": {},
   "outputs": [
    {
     "name": "stdout",
     "output_type": "stream",
     "text": [
      "20170228.txt\n"
     ]
    }
   ],
   "source": [
    "%%sh\n",
    "ls mydir/"
   ]
  },
  {
   "cell_type": "code",
   "execution_count": 29,
   "metadata": {},
   "outputs": [
    {
     "name": "stdout",
     "output_type": "stream",
     "text": [
      "Donald J. Trump \n",
      "\n",
      "February 28, 2017 \n",
      "Thank you very much. Mr. Speaker, Mr. Vice President, members of Congress, the first lady of the United States ... \n",
      "... and citizens of America, tonight, as we mark the conclusion of our celebration of Black History Month, we are reminded of our nation's path toward civil rights and the work that still remains to be done. \n",
      "Recent threats ... \n",
      "Recent threats targeting Jewish community centers and vandalism of Jewish cemeteries, as well as last week's shooting in Kansas City, remind us that while we may be a nation divided on policies, we are a country that stands united in condemning hate and evil in all of its very ugly forms. \n",
      "Each American generation passes the torch of truth, liberty and justice, in an unbroken chain all the way down to the present. That torch is now in our hands. And we will use it to light up the world. \n",
      "I am here tonight to deliver a message of unity and strength, and it is a message deeply delivered from my heart. A new chapter ... \n",
      "... of American greatness is now beginning. A new national pride is sweeping across our nation. And a new surge of optimism is placing impossible dreams firmly within our grasp. What we are witnessing today is the renewal of the American spirit. Our allies will find that America is once again ready to lead. \n"
     ]
    }
   ],
   "source": [
    "%%sh\n",
    "cd mydir/\n",
    "head 20170228.txt "
   ]
  },
  {
   "cell_type": "markdown",
   "metadata": {},
   "source": [
    "## To have more fun with all SOU addresses\n",
    "Do the following:\n"
   ]
  },
  {
   "cell_type": "code",
   "execution_count": 30,
   "metadata": {},
   "outputs": [
    {
     "name": "stderr",
     "output_type": "stream",
     "text": [
      "  % Total    % Received % Xferd  Average Speed   Time    Time     Time  Current\n",
      "                                 Dload  Upload   Total   Spent    Left  Speed\n",
      "100 3566k  100 3566k    0     0   421k      0  0:00:08  0:00:08 --:--:--  585k\n"
     ]
    }
   ],
   "source": [
    "%%sh\n",
    "mkdir -p mydir # first create a directory called 'mydir'\n",
    "cd mydir # change into this mydir directory\n",
    "rm -f sou.tar.gz # remove any file in mydir called sou.tar.gz\n",
    "curl -O http://lamastex.org/datasets/public/SOU/sou.tar.gz"
   ]
  },
  {
   "cell_type": "code",
   "execution_count": 31,
   "metadata": {},
   "outputs": [
    {
     "name": "stdout",
     "output_type": "stream",
     "text": [
      "/Users/sunandclouds/IntroductionDS/first_lecture_and_data 2\n",
      "total 8360\n",
      "-rw-r--r--  1 sunandclouds  staff    29K Oct  9 22:04 20170228.txt\n",
      "-rw-r--r--  1 sunandclouds  staff   3.5M Oct 11 07:46 sou.tar.gz\n"
     ]
    }
   ],
   "source": [
    "%%sh\n",
    "pwd\n",
    "ls -lh mydir"
   ]
  },
  {
   "cell_type": "code",
   "execution_count": 32,
   "metadata": {
    "collapsed": true,
    "jupyter": {
     "outputs_hidden": true
    },
    "tags": []
   },
   "outputs": [
    {
     "name": "stderr",
     "output_type": "stream",
     "text": [
      "x sou/\n",
      "x sou/18111105.txt\n",
      "x sou/20040120.txt\n",
      "x sou/19061203.txt\n",
      "x sou/18411207.txt\n",
      "x sou/19091207.txt\n",
      "x sou/18701205.txt\n",
      "x sou/19410106.txt\n",
      "x sou/18571208.txt\n",
      "x sou/18891203.txt\n",
      "x sou/18341201.txt\n",
      "x sou/19660112.txt\n",
      "x sou/17981208.txt\n",
      "x sou/19610130.txt\n",
      "x sou/18140920.txt\n",
      "x sou/18011208.txt\n",
      "x sou/18811206.txt\n",
      "x sou/18281202.txt\n",
      "x sou/19840125.txt\n",
      "x sou/18611203.txt\n",
      "x sou/18731201.txt\n",
      "x sou/19400103.txt\n",
      "x sou/19630114.txt\n",
      "x sou/19281204.txt\n",
      "x sou/19221208.txt\n",
      "x sou/19031207.txt\n",
      "x sou/18681209.txt\n",
      "x sou/18431206.txt\n",
      "x sou/18861206.txt\n",
      "x sou/19261207.txt\n",
      "x sou/19271206.txt\n",
      "x sou/19141208.txt\n",
      "x sou/18791201.txt\n",
      "x sou/19131202.txt\n",
      "x sou/19041206.txt\n",
      "x sou/18001111.txt\n",
      "x sou/18041108.txt\n",
      "x sou/20010227.txt\n",
      "x sou/18621201.txt\n",
      "x sou/19251208.txt\n",
      "x sou/19700122.txt\n",
      "x sou/19790125.txt\n",
      "x sou/19870127.txt\n",
      "x sou/20050202.txt\n",
      "x sou/18331203.txt\n",
      "x sou/17961207.txt\n",
      "x sou/18021215.txt\n",
      "x sou/18771203.txt\n",
      "x sou/19890209.txt\n",
      "x sou/18301206.txt\n",
      "x sou/18121104.txt\n",
      "x sou/19580109.txt\n",
      "x sou/20110125.txt\n",
      "x sou/19450106.txt\n",
      "x sou/18031017.txt\n",
      "x sou/19301202.txt\n",
      "x sou/18661203.txt\n",
      "x sou/19520109.txt\n",
      "x sou/19620111.txt\n",
      "x sou/18531205.txt\n",
      "x sou/19610112.txt\n",
      "x sou/19430107.txt\n",
      "x sou/19960123.txt\n",
      "x sou/17911025.txt\n",
      "x sou/18211203.txt\n",
      "x sou/18951207.txt\n",
      "x sou/18901201.txt\n",
      "x sou/18721202.txt\n",
      "x sou/20140128.txt\n",
      "x sou/18361205.txt\n",
      "x sou/18101205.txt\n",
      "x sou/18081108.txt\n",
      "x sou/18961204.txt\n",
      "x sou/18871206.txt\n",
      "x sou/18781202.txt\n",
      "x sou/19480107.txt\n",
      "x sou/19001203.txt\n",
      "x sou/18421206.txt\n",
      "x sou/18241207.txt\n",
      "x sou/18131207.txt\n",
      "x sou/19500104.txt\n",
      "x sou/20010920.txt\n",
      "x sou/19940125.txt\n",
      "x sou/19850206.txt\n",
      "x sou/18541204.txt\n",
      "x sou/17921106.txt\n",
      "x sou/19800121.txt\n",
      "x sou/19311208.txt\n",
      "x sou/18461208.txt\n",
      "x sou/19161205.txt\n",
      "x sou/19121203.txt\n",
      "x sou/19370106.txt\n",
      "x sou/19151207.txt\n",
      "x sou/19051205.txt\n",
      "x sou/19021202.txt\n",
      "x sou/18321204.txt\n",
      "x sou/18671203.txt\n",
      "x sou/18651204.txt\n",
      "x sou/19510108.txt\n",
      "x sou/18581206.txt\n",
      "x sou/18161203.txt\n",
      "x sou/19390104.txt\n",
      "x sou/19321206.txt\n",
      "x sou/18641206.txt\n",
      "x sou/20070123.txt\n",
      "x sou/18691206.txt\n",
      "x sou/17991203.txt\n",
      "x sou/18551231.txt\n",
      "x sou/19440111.txt\n",
      "x sou/19910129.txt\n",
      "x sou/18921206.txt\n",
      "x sou/18061202.txt\n",
      "x sou/19470106.txt\n",
      "x sou/19590109.txt\n",
      "x sou/18151205.txt\n",
      "x sou/18751207.txt\n",
      "x sou/18981205.txt\n",
      "x sou/20090224.txt\n",
      "x sou/18071027.txt\n",
      "x sou/18171212.txt\n",
      "x sou/18821204.txt\n",
      "x sou/19211206.txt\n",
      "x sou/18371205.txt\n",
      "x sou/19181202.txt\n",
      "x sou/19720120.txt\n",
      "x sou/18601203.txt\n",
      "x sou/19530107.txt\n",
      "x sou/18741207.txt\n",
      "x sou/19460121.txt\n",
      "x sou/19350104.txt\n",
      "x sou/19201207.txt\n",
      "x sou/18591219.txt\n",
      "x sou/18221203.txt\n",
      "x sou/19231206.txt\n",
      "x sou/19730202.txt\n",
      "x sou/19291203.txt\n",
      "x sou/19820126.txt\n",
      "x sou/20060131.txt\n",
      "x sou/18501202.txt\n",
      "x sou/17931203.txt\n",
      "x sou/18711204.txt\n",
      "x sou/18441203.txt\n",
      "x sou/17900108.txt\n",
      "x sou/18561202.txt\n",
      "x sou/18381203.txt\n",
      "x sou/19071203.txt\n",
      "x sou/19570110.txt\n",
      "x sou/19171204.txt\n",
      "x sou/18181116.txt\n",
      "x sou/19420106.txt\n",
      "x sou/18201114.txt\n",
      "x sou/20130212.txt\n",
      "x sou/20030128.txt\n",
      "x sou/19340103.txt\n",
      "x sou/19970204.txt\n",
      "x sou/19810116.txt\n",
      "x sou/18841201.txt\n",
      "x sou/19101206.txt\n",
      "x sou/18351207.txt\n",
      "x sou/17951208.txt\n",
      "x sou/19530202.txt\n",
      "x sou/18971206.txt\n",
      "x sou/18231202.txt\n",
      "x sou/18831204.txt\n",
      "x sou/19490105.txt\n",
      "x sou/18991205.txt\n",
      "x sou/18391202.txt\n",
      "x sou/18481205.txt\n",
      "x sou/18631208.txt\n",
      "x sou/19930217.txt\n",
      "x sou/19111205.txt\n",
      "x sou/19740130.txt\n",
      "x sou/20160112.txt\n",
      "x sou/19880125.txt\n",
      "x sou/19690114.txt\n",
      "x sou/19360103.txt\n",
      "x sou/20120124.txt\n",
      "x sou/18091129.txt\n",
      "x sou/19680117.txt\n",
      "x sou/18851208.txt\n",
      "x sou/20100127.txt\n",
      "x sou/19191202.txt\n",
      "x sou/19670110.txt\n",
      "x sou/18451202.txt\n",
      "x sou/19241203.txt\n",
      "x sou/20080128.txt\n",
      "x sou/18291208.txt\n",
      "x sou/19980127.txt\n",
      "x sou/18401205.txt\n",
      "x sou/18471207.txt\n",
      "x sou/19540107.txt\n",
      "x sou/18191207.txt\n",
      "x sou/18801206.txt\n",
      "x sou/18491204.txt\n",
      "x sou/18881203.txt\n",
      "x sou/19950124.txt\n",
      "x sou/19380103.txt\n",
      "x sou/18761205.txt\n",
      "x sou/18931203.txt\n",
      "x sou/18051203.txt\n",
      "x sou/18271204.txt\n",
      "x sou/19900131.txt\n",
      "x sou/18941202.txt\n",
      "x sou/20150120.txt\n",
      "x sou/17941119.txt\n",
      "x sou/18261205.txt\n",
      "x sou/19710122.txt\n",
      "x sou/17901208.txt\n",
      "x sou/19081208.txt\n",
      "x sou/19550106.txt\n",
      "x sou/17971122.txt\n",
      "x sou/19560105.txt\n",
      "x sou/19640108.txt\n",
      "x sou/20020129.txt\n",
      "x sou/19920128.txt\n",
      "x sou/18511202.txt\n",
      "x sou/18311206.txt\n",
      "x sou/19770112.txt\n",
      "x sou/18521206.txt\n",
      "x sou/19760119.txt\n",
      "x sou/18251206.txt\n",
      "x sou/19860204.txt\n",
      "x sou/19830125.txt\n",
      "x sou/19780119.txt\n",
      "x sou/19650104.txt\n",
      "x sou/19990119.txt\n",
      "x sou/20000127.txt\n",
      "x sou/19600107.txt\n",
      "x sou/19011203.txt\n",
      "x sou/19750115.txt\n",
      "x sou/18911209.txt\n"
     ]
    }
   ],
   "source": [
    "%%sh\n",
    "cd mydir \n",
    "tar zxvf sou.tar.gz"
   ]
  },
  {
   "cell_type": "markdown",
   "metadata": {},
   "source": [
    "After running the above two cells, you should have all the SOU (State of Union) addresses. By evaluating the next cell's `ls ...` command you should see the SOU files like the following:\n",
    "\n",
    "```\n",
    "total 11M\n",
    "-rw------- 1 raazesh raazesh 6.6K Feb 18  2016 17900108.txt\n",
    "-rw------- 1 raazesh raazesh 8.3K Feb 18  2016 17901208.txt\n",
    "-rw------- 1 raazesh raazesh  14K Feb 18  2016 17911025.txt\n",
    "...\n",
    "...\n",
    "...\n",
    "-rw------- 1 raazesh raazesh  39K Feb 18  2016 20140128.txt\n",
    "-rw------- 1 raazesh raazesh  38K Feb 18  2016 20150120.txt\n",
    "-rw------- 1 raazesh raazesh  31K Feb 18  2016 20160112.txt\n",
    "```"
   ]
  },
  {
   "cell_type": "code",
   "execution_count": 33,
   "metadata": {
    "collapsed": true,
    "jupyter": {
     "outputs_hidden": true
    },
    "tags": []
   },
   "outputs": [
    {
     "name": "stdout",
     "output_type": "stream",
     "text": [
      "total 21776\n",
      "-rw-------  1 sunandclouds  staff   6.6K Feb 18  2016 17900108.txt\n",
      "-rw-------  1 sunandclouds  staff   8.2K Feb 18  2016 17901208.txt\n",
      "-rw-------  1 sunandclouds  staff    14K Feb 18  2016 17911025.txt\n",
      "-rw-------  1 sunandclouds  staff    12K Feb 18  2016 17921106.txt\n",
      "-rw-------  1 sunandclouds  staff    11K Feb 18  2016 17931203.txt\n",
      "-rw-------  1 sunandclouds  staff    17K Feb 18  2016 17941119.txt\n",
      "-rw-------  1 sunandclouds  staff    12K Feb 18  2016 17951208.txt\n",
      "-rw-------  1 sunandclouds  staff    17K Feb 18  2016 17961207.txt\n",
      "-rw-------  1 sunandclouds  staff    12K Feb 18  2016 17971122.txt\n",
      "-rw-------  1 sunandclouds  staff    13K Feb 18  2016 17981208.txt\n",
      "-rw-------  1 sunandclouds  staff   9.0K Feb 18  2016 17991203.txt\n",
      "-rw-------  1 sunandclouds  staff   8.2K Feb 18  2016 18001111.txt\n",
      "-rw-------  1 sunandclouds  staff    19K Feb 18  2016 18011208.txt\n",
      "-rw-------  1 sunandclouds  staff    13K Feb 18  2016 18021215.txt\n",
      "-rw-------  1 sunandclouds  staff    14K Feb 18  2016 18031017.txt\n",
      "-rw-------  1 sunandclouds  staff    12K Feb 18  2016 18041108.txt\n",
      "-rw-------  1 sunandclouds  staff    17K Feb 18  2016 18051203.txt\n",
      "-rw-------  1 sunandclouds  staff    17K Feb 18  2016 18061202.txt\n",
      "-rw-------  1 sunandclouds  staff    14K Feb 18  2016 18071027.txt\n",
      "-rw-------  1 sunandclouds  staff    16K Feb 18  2016 18081108.txt\n",
      "-rw-------  1 sunandclouds  staff    11K Feb 18  2016 18091129.txt\n",
      "-rw-------  1 sunandclouds  staff    15K Feb 18  2016 18101205.txt\n",
      "-rw-------  1 sunandclouds  staff    14K Feb 18  2016 18111105.txt\n",
      "-rw-------  1 sunandclouds  staff    19K Feb 18  2016 18121104.txt\n",
      "-rw-------  1 sunandclouds  staff    19K Feb 18  2016 18131207.txt\n",
      "-rw-------  1 sunandclouds  staff    12K Feb 18  2016 18140920.txt\n",
      "-rw-------  1 sunandclouds  staff    19K Feb 18  2016 18151205.txt\n",
      "-rw-------  1 sunandclouds  staff    20K Feb 18  2016 18161203.txt\n",
      "-rw-------  1 sunandclouds  staff    26K Feb 18  2016 18171212.txt\n",
      "-rw-------  1 sunandclouds  staff    26K Feb 18  2016 18181116.txt\n",
      "-rw-------  1 sunandclouds  staff    27K Feb 18  2016 18191207.txt\n",
      "-rw-------  1 sunandclouds  staff    20K Feb 18  2016 18201114.txt\n",
      "-rw-------  1 sunandclouds  staff    34K Feb 18  2016 18211203.txt\n",
      "-rw-------  1 sunandclouds  staff    27K Feb 18  2016 18221203.txt\n",
      "-rw-------  1 sunandclouds  staff    37K Feb 18  2016 18231202.txt\n",
      "-rw-------  1 sunandclouds  staff    49K Feb 18  2016 18241207.txt\n",
      "-rw-------  1 sunandclouds  staff    53K Feb 18  2016 18251206.txt\n",
      "-rw-------  1 sunandclouds  staff    45K Feb 18  2016 18261205.txt\n",
      "-rw-------  1 sunandclouds  staff    41K Feb 18  2016 18271204.txt\n",
      "-rw-------  1 sunandclouds  staff    43K Feb 18  2016 18281202.txt\n",
      "-rw-------  1 sunandclouds  staff    61K Feb 18  2016 18291208.txt\n",
      "-rw-------  1 sunandclouds  staff    89K Feb 18  2016 18301206.txt\n",
      "-rw-------  1 sunandclouds  staff    42K Feb 18  2016 18311206.txt\n",
      "-rw-------  1 sunandclouds  staff    46K Feb 18  2016 18321204.txt\n",
      "-rw-------  1 sunandclouds  staff    46K Feb 18  2016 18331203.txt\n",
      "-rw-------  1 sunandclouds  staff    78K Feb 18  2016 18341201.txt\n",
      "-rw-------  1 sunandclouds  staff    63K Feb 18  2016 18351207.txt\n",
      "-rw-------  1 sunandclouds  staff    72K Feb 18  2016 18361205.txt\n",
      "-rw-------  1 sunandclouds  staff    67K Feb 18  2016 18371205.txt\n",
      "-rw-------  1 sunandclouds  staff    68K Feb 18  2016 18381203.txt\n",
      "-rw-------  1 sunandclouds  staff    78K Feb 18  2016 18391202.txt\n",
      "-rw-------  1 sunandclouds  staff    54K Feb 18  2016 18401205.txt\n",
      "-rw-------  1 sunandclouds  staff    48K Feb 18  2016 18411207.txt\n",
      "-rw-------  1 sunandclouds  staff    49K Feb 18  2016 18421206.txt\n",
      "-rw-------  1 sunandclouds  staff    47K Feb 18  2016 18431206.txt\n",
      "-rw-------  1 sunandclouds  staff    54K Feb 18  2016 18441203.txt\n",
      "-rw-------  1 sunandclouds  staff    94K Feb 18  2016 18451202.txt\n",
      "-rw-------  1 sunandclouds  staff   105K Feb 18  2016 18461208.txt\n",
      "-rw-------  1 sunandclouds  staff    95K Feb 18  2016 18471207.txt\n",
      "-rw-------  1 sunandclouds  staff   125K Feb 18  2016 18481205.txt\n",
      "-rw-------  1 sunandclouds  staff    45K Feb 18  2016 18491204.txt\n",
      "-rw-------  1 sunandclouds  staff    49K Feb 18  2016 18501202.txt\n",
      "-rw-------  1 sunandclouds  staff    77K Feb 18  2016 18511202.txt\n",
      "-rw-------  1 sunandclouds  staff    58K Feb 18  2016 18521206.txt\n",
      "-rw-------  1 sunandclouds  staff    57K Feb 18  2016 18531205.txt\n",
      "-rw-------  1 sunandclouds  staff    60K Feb 18  2016 18541204.txt\n",
      "-rw-------  1 sunandclouds  staff    69K Feb 18  2016 18551231.txt\n",
      "-rw-------  1 sunandclouds  staff    62K Feb 18  2016 18561202.txt\n",
      "-rw-------  1 sunandclouds  staff    80K Feb 18  2016 18571208.txt\n",
      "-rw-------  1 sunandclouds  staff    96K Feb 18  2016 18581206.txt\n",
      "-rw-------  1 sunandclouds  staff    72K Feb 18  2016 18591219.txt\n",
      "-rw-------  1 sunandclouds  staff    82K Feb 18  2016 18601203.txt\n",
      "-rw-------  1 sunandclouds  staff    41K Feb 18  2016 18611203.txt\n",
      "-rw-------  1 sunandclouds  staff    49K Feb 18  2016 18621201.txt\n",
      "-rw-------  1 sunandclouds  staff    36K Feb 18  2016 18631208.txt\n",
      "-rw-------  1 sunandclouds  staff    35K Feb 18  2016 18641206.txt\n",
      "-rw-------  1 sunandclouds  staff    53K Feb 18  2016 18651204.txt\n",
      "-rw-------  1 sunandclouds  staff    43K Feb 18  2016 18661203.txt\n",
      "-rw-------  1 sunandclouds  staff    70K Feb 18  2016 18671203.txt\n",
      "-rw-------  1 sunandclouds  staff    59K Feb 18  2016 18681209.txt\n",
      "-rw-------  1 sunandclouds  staff    45K Feb 18  2016 18691206.txt\n",
      "-rw-------  1 sunandclouds  staff    51K Feb 18  2016 18701205.txt\n",
      "-rw-------  1 sunandclouds  staff    38K Feb 18  2016 18711204.txt\n",
      "-rw-------  1 sunandclouds  staff    23K Feb 18  2016 18721202.txt\n",
      "-rw-------  1 sunandclouds  staff    59K Feb 18  2016 18731201.txt\n",
      "-rw-------  1 sunandclouds  staff    54K Feb 18  2016 18741207.txt\n",
      "-rw-------  1 sunandclouds  staff    72K Feb 18  2016 18751207.txt\n",
      "-rw-------  1 sunandclouds  staff    40K Feb 18  2016 18761205.txt\n",
      "-rw-------  1 sunandclouds  staff    47K Feb 18  2016 18771203.txt\n",
      "-rw-------  1 sunandclouds  staff    47K Feb 18  2016 18781202.txt\n",
      "-rw-------  1 sunandclouds  staff    69K Feb 18  2016 18791201.txt\n",
      "-rw-------  1 sunandclouds  staff    40K Feb 18  2016 18801206.txt\n",
      "-rw-------  1 sunandclouds  staff    24K Feb 18  2016 18811206.txt\n",
      "-rw-------  1 sunandclouds  staff    19K Feb 18  2016 18821204.txt\n",
      "-rw-------  1 sunandclouds  staff    23K Feb 18  2016 18831204.txt\n",
      "-rw-------  1 sunandclouds  staff    54K Feb 18  2016 18841201.txt\n",
      "-rw-------  1 sunandclouds  staff   118K Feb 18  2016 18851208.txt\n",
      "-rw-------  1 sunandclouds  staff    91K Feb 18  2016 18861206.txt\n",
      "-rw-------  1 sunandclouds  staff    31K Feb 18  2016 18871206.txt\n",
      "-rw-------  1 sunandclouds  staff    54K Feb 18  2016 18881203.txt\n",
      "-rw-------  1 sunandclouds  staff    76K Feb 18  2016 18891203.txt\n",
      "-rw-------  1 sunandclouds  staff    68K Feb 18  2016 18901201.txt\n",
      "-rw-------  1 sunandclouds  staff    95K Feb 18  2016 18911209.txt\n",
      "-rw-------  1 sunandclouds  staff    80K Feb 18  2016 18921206.txt\n",
      "-rw-------  1 sunandclouds  staff    75K Feb 18  2016 18931203.txt\n",
      "-rw-------  1 sunandclouds  staff    96K Feb 18  2016 18941202.txt\n",
      "-rw-------  1 sunandclouds  staff    88K Feb 18  2016 18951207.txt\n",
      "-rw-------  1 sunandclouds  staff    93K Feb 18  2016 18961204.txt\n",
      "-rw-------  1 sunandclouds  staff    71K Feb 18  2016 18971206.txt\n",
      "-rw-------  1 sunandclouds  staff   121K Feb 18  2016 18981205.txt\n",
      "-rw-------  1 sunandclouds  staff    91K Feb 18  2016 18991205.txt\n",
      "-rw-------  1 sunandclouds  staff   116K Feb 18  2016 19001203.txt\n",
      "-rw-------  1 sunandclouds  staff   113K Feb 18  2016 19011203.txt\n",
      "-rw-------  1 sunandclouds  staff    56K Feb 18  2016 19021202.txt\n",
      "-rw-------  1 sunandclouds  staff    88K Feb 18  2016 19031207.txt\n",
      "-rw-------  1 sunandclouds  staff   102K Feb 18  2016 19041206.txt\n",
      "-rw-------  1 sunandclouds  staff   144K Feb 18  2016 19051205.txt\n",
      "-rw-------  1 sunandclouds  staff   135K Feb 18  2016 19061203.txt\n",
      "-rw-------  1 sunandclouds  staff   158K Feb 18  2016 19071203.txt\n",
      "-rw-------  1 sunandclouds  staff   113K Feb 18  2016 19081208.txt\n",
      "-rw-------  1 sunandclouds  staff    83K Feb 18  2016 19091207.txt\n",
      "-rw-------  1 sunandclouds  staff    42K Feb 18  2016 19101206.txt\n",
      "-rw-------  1 sunandclouds  staff   140K Feb 18  2016 19111205.txt\n",
      "-rw-------  1 sunandclouds  staff   150K Feb 18  2016 19121203.txt\n",
      "-rw-------  1 sunandclouds  staff    20K Feb 18  2016 19131202.txt\n",
      "-rw-------  1 sunandclouds  staff    25K Feb 18  2016 19141208.txt\n",
      "-rw-------  1 sunandclouds  staff    44K Feb 18  2016 19151207.txt\n",
      "-rw-------  1 sunandclouds  staff    12K Feb 18  2016 19161205.txt\n",
      "-rw-------  1 sunandclouds  staff    22K Feb 18  2016 19171204.txt\n",
      "-rw-------  1 sunandclouds  staff    31K Feb 18  2016 19181202.txt\n",
      "-rw-------  1 sunandclouds  staff    28K Feb 18  2016 19191202.txt\n",
      "-rw-------  1 sunandclouds  staff    16K Feb 18  2016 19201207.txt\n",
      "-rw-------  1 sunandclouds  staff    34K Feb 18  2016 19211206.txt\n",
      "-rw-------  1 sunandclouds  staff    35K Feb 18  2016 19221208.txt\n",
      "-rw-------  1 sunandclouds  staff    40K Feb 18  2016 19231206.txt\n",
      "-rw-------  1 sunandclouds  staff    42K Feb 18  2016 19241203.txt\n",
      "-rw-------  1 sunandclouds  staff    65K Feb 18  2016 19251208.txt\n",
      "-rw-------  1 sunandclouds  staff    61K Feb 18  2016 19261207.txt\n",
      "-rw-------  1 sunandclouds  staff    53K Feb 18  2016 19271206.txt\n",
      "-rw-------  1 sunandclouds  staff    49K Feb 18  2016 19281204.txt\n",
      "-rw-------  1 sunandclouds  staff    67K Feb 18  2016 19291203.txt\n",
      "-rw-------  1 sunandclouds  staff    28K Feb 18  2016 19301202.txt\n",
      "-rw-------  1 sunandclouds  staff    36K Feb 18  2016 19311208.txt\n",
      "-rw-------  1 sunandclouds  staff    26K Feb 18  2016 19321206.txt\n",
      "-rw-------  1 sunandclouds  staff    13K Feb 18  2016 19340103.txt\n",
      "-rw-------  1 sunandclouds  staff    21K Feb 18  2016 19350104.txt\n",
      "-rw-------  1 sunandclouds  staff    22K Feb 18  2016 19360103.txt\n",
      "-rw-------  1 sunandclouds  staff    16K Feb 18  2016 19370106.txt\n",
      "-rw-------  1 sunandclouds  staff    27K Feb 18  2016 19380103.txt\n",
      "-rw-------  1 sunandclouds  staff    22K Feb 18  2016 19390104.txt\n",
      "-rw-------  1 sunandclouds  staff    18K Feb 18  2016 19400103.txt\n",
      "-rw-------  1 sunandclouds  staff    19K Feb 18  2016 19410106.txt\n",
      "-rw-------  1 sunandclouds  staff    19K Feb 18  2016 19420106.txt\n",
      "-rw-------  1 sunandclouds  staff    26K Feb 18  2016 19430107.txt\n",
      "-rw-------  1 sunandclouds  staff    22K Feb 18  2016 19440111.txt\n",
      "-rw-------  1 sunandclouds  staff    48K Feb 18  2016 19450106.txt\n",
      "-rw-------  1 sunandclouds  staff   171K Feb 18  2016 19460121.txt\n",
      "-rw-------  1 sunandclouds  staff    37K Feb 18  2016 19470106.txt\n",
      "-rw-------  1 sunandclouds  staff    30K Feb 18  2016 19480107.txt\n",
      "-rw-------  1 sunandclouds  staff    20K Feb 18  2016 19490105.txt\n",
      "-rw-------  1 sunandclouds  staff    30K Feb 18  2016 19500104.txt\n",
      "-rw-------  1 sunandclouds  staff    22K Feb 18  2016 19510108.txt\n",
      "-rw-------  1 sunandclouds  staff    30K Feb 18  2016 19520109.txt\n",
      "-rw-------  1 sunandclouds  staff    55K Feb 18  2016 19530107.txt\n",
      "-rw-------  1 sunandclouds  staff    43K Feb 18  2016 19530202.txt\n",
      "-rw-------  1 sunandclouds  staff    37K Feb 18  2016 19540107.txt\n",
      "-rw-------  1 sunandclouds  staff    45K Feb 18  2016 19550106.txt\n",
      "-rw-------  1 sunandclouds  staff    51K Feb 18  2016 19560105.txt\n",
      "-rw-------  1 sunandclouds  staff    25K Feb 18  2016 19570110.txt\n",
      "-rw-------  1 sunandclouds  staff    30K Feb 18  2016 19580109.txt\n",
      "-rw-------  1 sunandclouds  staff    29K Feb 18  2016 19590109.txt\n",
      "-rw-------  1 sunandclouds  staff    34K Feb 18  2016 19600107.txt\n",
      "-rw-------  1 sunandclouds  staff    39K Feb 18  2016 19610112.txt\n",
      "-rw-------  1 sunandclouds  staff    31K Feb 18  2016 19610130.txt\n",
      "-rw-------  1 sunandclouds  staff    39K Feb 18  2016 19620111.txt\n",
      "-rw-------  1 sunandclouds  staff    31K Feb 18  2016 19630114.txt\n",
      "-rw-------  1 sunandclouds  staff    18K Feb 18  2016 19640108.txt\n",
      "-rw-------  1 sunandclouds  staff    25K Feb 18  2016 19650104.txt\n",
      "-rw-------  1 sunandclouds  staff    30K Feb 18  2016 19660112.txt\n",
      "-rw-------  1 sunandclouds  staff    41K Feb 18  2016 19670110.txt\n",
      "-rw-------  1 sunandclouds  staff    28K Feb 18  2016 19680117.txt\n",
      "-rw-------  1 sunandclouds  staff    23K Feb 18  2016 19690114.txt\n",
      "-rw-------  1 sunandclouds  staff    25K Feb 18  2016 19700122.txt\n",
      "-rw-------  1 sunandclouds  staff    25K Feb 18  2016 19710122.txt\n",
      "-rw-------  1 sunandclouds  staff    23K Feb 18  2016 19720120.txt\n",
      "-rw-------  1 sunandclouds  staff   9.6K Feb 18  2016 19730202.txt\n",
      "-rw-------  1 sunandclouds  staff    29K Feb 18  2016 19740130.txt\n",
      "-rw-------  1 sunandclouds  staff    24K Feb 18  2016 19750115.txt\n",
      "-rw-------  1 sunandclouds  staff    29K Feb 18  2016 19760119.txt\n",
      "-rw-------  1 sunandclouds  staff    27K Feb 18  2016 19770112.txt\n",
      "-rw-------  1 sunandclouds  staff    26K Feb 18  2016 19780119.txt\n",
      "-rw-------  1 sunandclouds  staff    19K Feb 18  2016 19790125.txt\n",
      "-rw-------  1 sunandclouds  staff    20K Feb 18  2016 19800121.txt\n",
      "-rw-------  1 sunandclouds  staff   213K Feb 18  2016 19810116.txt\n",
      "-rw-------  1 sunandclouds  staff    30K Feb 18  2016 19820126.txt\n",
      "-rw-------  1 sunandclouds  staff    32K Feb 18  2016 19830125.txt\n",
      "-rw-------  1 sunandclouds  staff    29K Feb 18  2016 19840125.txt\n",
      "-rw-------  1 sunandclouds  staff    25K Feb 18  2016 19850206.txt\n",
      "-rw-------  1 sunandclouds  staff    20K Feb 18  2016 19860204.txt\n",
      "-rw-------  1 sunandclouds  staff    22K Feb 18  2016 19870127.txt\n",
      "-rw-------  1 sunandclouds  staff    28K Feb 18  2016 19880125.txt\n",
      "-rw-------  1 sunandclouds  staff    27K Feb 18  2016 19890209.txt\n",
      "-rw-------  1 sunandclouds  staff    21K Feb 18  2016 19900131.txt\n",
      "-rw-------  1 sunandclouds  staff    22K Feb 18  2016 19910129.txt\n",
      "-rw-------  1 sunandclouds  staff    26K Feb 18  2016 19920128.txt\n",
      "-rw-------  1 sunandclouds  staff    38K Feb 18  2016 19930217.txt\n",
      "-rw-------  1 sunandclouds  staff    41K Feb 18  2016 19940125.txt\n",
      "-rw-------  1 sunandclouds  staff    50K Feb 18  2016 19950124.txt\n",
      "-rw-------  1 sunandclouds  staff    36K Feb 18  2016 19960123.txt\n",
      "-rw-------  1 sunandclouds  staff    38K Feb 18  2016 19970204.txt\n",
      "-rw-------  1 sunandclouds  staff    41K Feb 18  2016 19980127.txt\n",
      "-rw-------  1 sunandclouds  staff    43K Feb 18  2016 19990119.txt\n",
      "-rw-------  1 sunandclouds  staff    43K Feb 18  2016 20000127.txt\n",
      "-rw-------  1 sunandclouds  staff    25K Feb 18  2016 20010227.txt\n",
      "-rw-------  1 sunandclouds  staff    17K Feb 18  2016 20010920.txt\n",
      "-rw-------  1 sunandclouds  staff    22K Feb 18  2016 20020129.txt\n",
      "-rw-------  1 sunandclouds  staff    31K Feb 18  2016 20030128.txt\n",
      "-rw-------  1 sunandclouds  staff    30K Feb 18  2016 20040120.txt\n",
      "-rw-------  1 sunandclouds  staff    29K Feb 18  2016 20050202.txt\n",
      "-rw-------  1 sunandclouds  staff    31K Feb 18  2016 20060131.txt\n",
      "-rw-------  1 sunandclouds  staff    31K Feb 18  2016 20070123.txt\n",
      "-rw-------  1 sunandclouds  staff    33K Feb 18  2016 20080128.txt\n",
      "-rw-------  1 sunandclouds  staff    33K Feb 18  2016 20090224.txt\n",
      "-rw-------  1 sunandclouds  staff    40K Feb 18  2016 20100127.txt\n",
      "-rw-------  1 sunandclouds  staff    39K Feb 18  2016 20110125.txt\n",
      "-rw-------  1 sunandclouds  staff    39K Feb 18  2016 20120124.txt\n",
      "-rw-------  1 sunandclouds  staff    37K Feb 18  2016 20130212.txt\n",
      "-rw-------  1 sunandclouds  staff    39K Feb 18  2016 20140128.txt\n",
      "-rw-------  1 sunandclouds  staff    38K Feb 18  2016 20150120.txt\n",
      "-rw-------  1 sunandclouds  staff    30K Feb 18  2016 20160112.txt\n"
     ]
    }
   ],
   "source": [
    "%%sh\n",
    "ls -lh mydir/sou"
   ]
  },
  {
   "cell_type": "code",
   "execution_count": 34,
   "metadata": {
    "collapsed": true,
    "jupyter": {
     "outputs_hidden": true
    },
    "tags": []
   },
   "outputs": [
    {
     "name": "stdout",
     "output_type": "stream",
     "text": [
      "George Washington \n",
      "\n",
      "January 8, 1790 \n",
      "Fellow-Citizens of the Senate and House of Representatives: \n",
      "I embrace with great satisfaction the opportunity which now presents itself of congratulating you on the present favorable prospects of our public affairs. The recent accession of the important state of North Carolina to the Constitution of the United States (of which official information has been received), the rising credit and respectability of our country, the general and increasing good will toward the government of the Union, and the concord, peace, and plenty with which we are blessed are circumstances auspicious in an eminent degree to our national prosperity. \n",
      "In resuming your consultations for the general good you can not but derive encouragement from the reflection that the measures of the last session have been as satisfactory to your constituents as the novelty and difficulty of the work allowed you to hope. Still further to realize their expectations and to secure the blessings which a gracious Providence has placed within our reach will in the course of the present important session call for the cool and deliberate exertion of your patriotism, firmness, and wisdom. \n",
      "Among the many interesting objects which will engage your attention that of providing for the common defense will merit particular regard. To be prepared for war is one of the most effectual means of preserving peace. \n",
      "A free people ought not only to be armed, but disciplined; to which end a uniform and well-digested plan is requisite; and their safety and interest require that they should promote such manufactories as tend to render them independent of others for essential, particularly military, supplies. \n",
      "The proper establishment of the troops which may be deemed indispensable will be entitled to mature consideration. In the arrangements which may be made respecting it it will be of importance to conciliate the comfortable support of the officers and soldiers with a due regard to economy. \n",
      "There was reason to hope that the pacific measures adopted with regard to certain hostile tribes of Indians would have relieved the inhabitants of our southern and western frontiers from their depredations, but you will perceive from the information contained in the papers which I shall direct to be laid before you (comprehending a communication from the Commonwealth of Virginia) that we ought to be prepared to afford protection to those parts of the Union, and, if necessary, to punish aggressors. \n"
     ]
    }
   ],
   "source": [
    "%%sh\n",
    "head mydir/sou/17900108.txt"
   ]
  },
  {
   "cell_type": "code",
   "execution_count": 35,
   "metadata": {},
   "outputs": [
    {
     "name": "stdout",
     "output_type": "stream",
     "text": [
      "Barack Obama \n",
      "\n",
      "January 12, 2016 \n",
      "Mr. Speaker, Mr. Vice President, Members of Congress, my fellow Americans: \n",
      "Tonight marks the eighth year I've come here to report on the State of the Union. And for this final one, I'm going to try to make it shorter. I know some of you are antsy to get back to Iowa. \n",
      "I also understand that because it's an election season, expectations for what we'll achieve this year are low. Still, Mr. Speaker, I appreciate the constructive approach you and the other leaders took at the end of last year to pass a budget and make tax cuts permanent for working families. So I hope we can work together this year on bipartisan priorities like criminal justice reform, and helping people who are battling prescription drug abuse. We just might surprise the cynics again. \n",
      "But tonight, I want to go easy on the traditional list of proposals for the year ahead. Don't worry, I've got plenty, from helping students learn to write computer code to personalizing medical treatments for patients. And I'll keep pushing for progress on the work that still needs doing. Fixing a broken immigration system. Protecting our kids from gun violence. Equal pay for equal work, paid leave, raising the minimum wage. All these things still matter to hardworking families; they are still the right thing to do; and I will not let up until they get done. \n",
      "But for my final address to this chamber, I don't want to talk just about the next year. I want to focus on the next five years, ten years, and beyond. \n",
      "I want to focus on our future. \n",
      "We live in a time of extraordinary change, change that's reshaping the way we live, the way we work, our planet and our place in the world. It's change that promises amazing medical breakthroughs, but also economic disruptions that strain working families. It promises education for girls in the most remote villages, but also connects terrorists plotting an ocean away. It's change that can broaden opportunity, or widen inequality. And whether we like it or not, the pace of this change will only accelerate. \n"
     ]
    }
   ],
   "source": [
    "%%sh\n",
    "head mydir/sou/20160112.txt"
   ]
  },
  {
   "cell_type": "markdown",
   "metadata": {},
   "source": [
    "An interesting analysis of the textual content of the *State of the Union (SoU)* addresses by all US presidents was done in:\n",
    "\n",
    "-   [Alix Rule, Jean-Philippe Cointet, and Peter S. Bearman, Lexical shifts, substantive changes, and continuity in State of the Union discourse, 1790–2014, PNAS 2015 112 (35) 10837-10844; doi:10.1073/pnas.1512221112](http://www.pnas.org/content/112/35/10837.full).\n",
    "\n",
    "![](images/F5.large.png)\n",
    "\n",
    "[Image source](http://www.pnas.org/content/112/35/10837/F5.large.jpg)\n",
    "\n",
    "[Fig. 5](http://www.pnas.org/content/112/35/10837.full). A river network captures the flow across history of US political discourse, as perceived by contemporaries. Time moves along the x axis. Clusters on semantic networks of 300 most frequent terms for each of 10 historical periods are displayed as vertical bars. Relations between clusters of adjacent periods are indexed by gray flows, whose density reflects their degree of connection. Streams that connect at any point in history may be considered to be part of the same system, indicated with a single color.\n",
    "\n",
    "**You** *will be able to carry out such analyses and/or critically reflect on the mathematical statistical assumptions made in such analyses, as you learn more during your programme of study after successfully completing this course.*"
   ]
  },
  {
   "cell_type": "markdown",
   "metadata": {},
   "source": [
    "## How was the `sou.tgz` file created?\n",
    "\n",
    "If you are curious, read: [http://lamastex.org/datasets/public/SOU/README.md](http://lamastex.org/datasets/public/SOU/README.md).\n",
    "\n",
    "Briefly, this is how a website with SOU was scraped by Paul Brouwers and adapted by Raazesh Sainudiin. A data scientist, and more generally a researcher interested in making statistical inference from data that is readily available online in a particular format, is expected to be comfortable with such *web-scraping tasks* (which can be done in more gracious and robust ways using specialised Python libraries). Such tasks also known as *Extract-Load-Transform (ELT)* operations are often time-consuming, expensive and the necessary first step towards extracting value from data.\n",
    "\n",
    "### A bit of bash and lynx to achieve the scraping of the state of the union addresses of the US Presidents,\n",
    "#### by Paul Brouwers\n",
    "\n",
    "The code below is mainly there to show how the text content of each state of the union address was scraped from the following URL:\n",
    "\n",
    "* [http://stateoftheunion.onetwothree.net/texts/index.html](http://stateoftheunion.onetwothree.net/texts/index.html)\n",
    "\n",
    "Such data acquisition tasks is usually the first and cucial step in a data scientist's workflow.\n",
    "\n",
    "We have done this and put the data in the distributed file system for easy loading into our notebooks for further analysis.  This keeps us from having to install unix programs like `lynx`, `sed`, etc. that are needed in the shell script below.\n",
    "\n",
    "\n",
    "```\n",
    "for i in $(lynx --dump http://stateoftheunion.onetwothree.net/texts/index.html | grep texts | grep -v index | sed 's/.*http/http/') ; do lynx --dump $i | tail -n+13 | head -n-14 | sed 's/^\\s\\+//' | sed -e ':a;N;$!ba;s/\\(.\\)\\n/\\1 /g' -e 's/\\n/\\n\\n/' > $(echo $i | sed 's/.*\\([0-9]\\{8\\}\\).*/\\1/').txt ; done\n",
    "```\n",
    "\n",
    "Or in a more atomic form:\n",
    "\n",
    "```\n",
    "for i in $(lynx --dump http://stateoftheunion.onetwothree.net/texts/index.html \\\n",
    "\n",
    "        | grep texts \\\n",
    "\n",
    "        | grep -v index \\\n",
    "\n",
    "        | sed 's/.*http/http/')\n",
    "\n",
    "do \n",
    "\n",
    "        lynx --dump $i \\\n",
    "\n",
    "               | tail -n+13 \\\n",
    "\n",
    "               | head -n-14 \\\n",
    "\n",
    "               | sed 's/^\\s\\+//' \\\n",
    "\n",
    "               | sed -e ':a;N;$!ba;s/\\(.\\)\\n/\\1 /g' -e 's/\\n/\\n\\n/' \\\n",
    "\n",
    "               > $(echo $i | sed 's/.*\\([0-9]\\{8\\}\\).*/\\1/').txt\n",
    "\n",
    "done\n",
    "```\n",
    "\n",
    "If you have time and are curious how each of the components in the above pipeline via `|` operators work, try to read `man echo`,  `man sed`,  `man grep`,  `man head`,  `man tail`, and  `man lynx` or `lynx --help`. If a command like `lynx` is not in your system, then you can install it with some work (mostly googling)."
   ]
  },
  {
   "cell_type": "code",
   "execution_count": 38,
   "metadata": {},
   "outputs": [
    {
     "name": "stderr",
     "output_type": "stream",
     "text": [
      "sh: line 1: brew: command not found\n"
     ]
    },
    {
     "ename": "CalledProcessError",
     "evalue": "Command 'b'brew install lynx\\n'' returned non-zero exit status 127.",
     "output_type": "error",
     "traceback": [
      "\u001b[0;31m---------------------------------------------------------------------------\u001b[0m",
      "\u001b[0;31mCalledProcessError\u001b[0m                        Traceback (most recent call last)",
      "\u001b[0;32m<ipython-input-38-6f879036aed0>\u001b[0m in \u001b[0;36m<module>\u001b[0;34m\u001b[0m\n\u001b[0;32m----> 1\u001b[0;31m \u001b[0mget_ipython\u001b[0m\u001b[0;34m(\u001b[0m\u001b[0;34m)\u001b[0m\u001b[0;34m.\u001b[0m\u001b[0mrun_cell_magic\u001b[0m\u001b[0;34m(\u001b[0m\u001b[0;34m'sh'\u001b[0m\u001b[0;34m,\u001b[0m \u001b[0;34m''\u001b[0m\u001b[0;34m,\u001b[0m \u001b[0;34m'brew install lynx\\n'\u001b[0m\u001b[0;34m)\u001b[0m\u001b[0;34m\u001b[0m\u001b[0;34m\u001b[0m\u001b[0m\n\u001b[0m",
      "\u001b[0;32m~/opt/anaconda3/lib/python3.8/site-packages/IPython/core/interactiveshell.py\u001b[0m in \u001b[0;36mrun_cell_magic\u001b[0;34m(self, magic_name, line, cell)\u001b[0m\n\u001b[1;32m   2380\u001b[0m             \u001b[0;32mwith\u001b[0m \u001b[0mself\u001b[0m\u001b[0;34m.\u001b[0m\u001b[0mbuiltin_trap\u001b[0m\u001b[0;34m:\u001b[0m\u001b[0;34m\u001b[0m\u001b[0;34m\u001b[0m\u001b[0m\n\u001b[1;32m   2381\u001b[0m                 \u001b[0margs\u001b[0m \u001b[0;34m=\u001b[0m \u001b[0;34m(\u001b[0m\u001b[0mmagic_arg_s\u001b[0m\u001b[0;34m,\u001b[0m \u001b[0mcell\u001b[0m\u001b[0;34m)\u001b[0m\u001b[0;34m\u001b[0m\u001b[0;34m\u001b[0m\u001b[0m\n\u001b[0;32m-> 2382\u001b[0;31m                 \u001b[0mresult\u001b[0m \u001b[0;34m=\u001b[0m \u001b[0mfn\u001b[0m\u001b[0;34m(\u001b[0m\u001b[0;34m*\u001b[0m\u001b[0margs\u001b[0m\u001b[0;34m,\u001b[0m \u001b[0;34m**\u001b[0m\u001b[0mkwargs\u001b[0m\u001b[0;34m)\u001b[0m\u001b[0;34m\u001b[0m\u001b[0;34m\u001b[0m\u001b[0m\n\u001b[0m\u001b[1;32m   2383\u001b[0m             \u001b[0;32mreturn\u001b[0m \u001b[0mresult\u001b[0m\u001b[0;34m\u001b[0m\u001b[0;34m\u001b[0m\u001b[0m\n\u001b[1;32m   2384\u001b[0m \u001b[0;34m\u001b[0m\u001b[0m\n",
      "\u001b[0;32m~/opt/anaconda3/lib/python3.8/site-packages/IPython/core/magics/script.py\u001b[0m in \u001b[0;36mnamed_script_magic\u001b[0;34m(line, cell)\u001b[0m\n\u001b[1;32m    140\u001b[0m             \u001b[0;32melse\u001b[0m\u001b[0;34m:\u001b[0m\u001b[0;34m\u001b[0m\u001b[0;34m\u001b[0m\u001b[0m\n\u001b[1;32m    141\u001b[0m                 \u001b[0mline\u001b[0m \u001b[0;34m=\u001b[0m \u001b[0mscript\u001b[0m\u001b[0;34m\u001b[0m\u001b[0;34m\u001b[0m\u001b[0m\n\u001b[0;32m--> 142\u001b[0;31m             \u001b[0;32mreturn\u001b[0m \u001b[0mself\u001b[0m\u001b[0;34m.\u001b[0m\u001b[0mshebang\u001b[0m\u001b[0;34m(\u001b[0m\u001b[0mline\u001b[0m\u001b[0;34m,\u001b[0m \u001b[0mcell\u001b[0m\u001b[0;34m)\u001b[0m\u001b[0;34m\u001b[0m\u001b[0;34m\u001b[0m\u001b[0m\n\u001b[0m\u001b[1;32m    143\u001b[0m \u001b[0;34m\u001b[0m\u001b[0m\n\u001b[1;32m    144\u001b[0m         \u001b[0;31m# write a basic docstring:\u001b[0m\u001b[0;34m\u001b[0m\u001b[0;34m\u001b[0m\u001b[0;34m\u001b[0m\u001b[0m\n",
      "\u001b[0;32m<decorator-gen-103>\u001b[0m in \u001b[0;36mshebang\u001b[0;34m(self, line, cell)\u001b[0m\n",
      "\u001b[0;32m~/opt/anaconda3/lib/python3.8/site-packages/IPython/core/magic.py\u001b[0m in \u001b[0;36m<lambda>\u001b[0;34m(f, *a, **k)\u001b[0m\n\u001b[1;32m    185\u001b[0m     \u001b[0;31m# but it's overkill for just that one bit of state.\u001b[0m\u001b[0;34m\u001b[0m\u001b[0;34m\u001b[0m\u001b[0;34m\u001b[0m\u001b[0m\n\u001b[1;32m    186\u001b[0m     \u001b[0;32mdef\u001b[0m \u001b[0mmagic_deco\u001b[0m\u001b[0;34m(\u001b[0m\u001b[0marg\u001b[0m\u001b[0;34m)\u001b[0m\u001b[0;34m:\u001b[0m\u001b[0;34m\u001b[0m\u001b[0;34m\u001b[0m\u001b[0m\n\u001b[0;32m--> 187\u001b[0;31m         \u001b[0mcall\u001b[0m \u001b[0;34m=\u001b[0m \u001b[0;32mlambda\u001b[0m \u001b[0mf\u001b[0m\u001b[0;34m,\u001b[0m \u001b[0;34m*\u001b[0m\u001b[0ma\u001b[0m\u001b[0;34m,\u001b[0m \u001b[0;34m**\u001b[0m\u001b[0mk\u001b[0m\u001b[0;34m:\u001b[0m \u001b[0mf\u001b[0m\u001b[0;34m(\u001b[0m\u001b[0;34m*\u001b[0m\u001b[0ma\u001b[0m\u001b[0;34m,\u001b[0m \u001b[0;34m**\u001b[0m\u001b[0mk\u001b[0m\u001b[0;34m)\u001b[0m\u001b[0;34m\u001b[0m\u001b[0;34m\u001b[0m\u001b[0m\n\u001b[0m\u001b[1;32m    188\u001b[0m \u001b[0;34m\u001b[0m\u001b[0m\n\u001b[1;32m    189\u001b[0m         \u001b[0;32mif\u001b[0m \u001b[0mcallable\u001b[0m\u001b[0;34m(\u001b[0m\u001b[0marg\u001b[0m\u001b[0;34m)\u001b[0m\u001b[0;34m:\u001b[0m\u001b[0;34m\u001b[0m\u001b[0;34m\u001b[0m\u001b[0m\n",
      "\u001b[0;32m~/opt/anaconda3/lib/python3.8/site-packages/IPython/core/magics/script.py\u001b[0m in \u001b[0;36mshebang\u001b[0;34m(self, line, cell)\u001b[0m\n\u001b[1;32m    243\u001b[0m             \u001b[0msys\u001b[0m\u001b[0;34m.\u001b[0m\u001b[0mstderr\u001b[0m\u001b[0;34m.\u001b[0m\u001b[0mflush\u001b[0m\u001b[0;34m(\u001b[0m\u001b[0;34m)\u001b[0m\u001b[0;34m\u001b[0m\u001b[0;34m\u001b[0m\u001b[0m\n\u001b[1;32m    244\u001b[0m         \u001b[0;32mif\u001b[0m \u001b[0margs\u001b[0m\u001b[0;34m.\u001b[0m\u001b[0mraise_error\u001b[0m \u001b[0;32mand\u001b[0m \u001b[0mp\u001b[0m\u001b[0;34m.\u001b[0m\u001b[0mreturncode\u001b[0m\u001b[0;34m!=\u001b[0m\u001b[0;36m0\u001b[0m\u001b[0;34m:\u001b[0m\u001b[0;34m\u001b[0m\u001b[0;34m\u001b[0m\u001b[0m\n\u001b[0;32m--> 245\u001b[0;31m             \u001b[0;32mraise\u001b[0m \u001b[0mCalledProcessError\u001b[0m\u001b[0;34m(\u001b[0m\u001b[0mp\u001b[0m\u001b[0;34m.\u001b[0m\u001b[0mreturncode\u001b[0m\u001b[0;34m,\u001b[0m \u001b[0mcell\u001b[0m\u001b[0;34m,\u001b[0m \u001b[0moutput\u001b[0m\u001b[0;34m=\u001b[0m\u001b[0mout\u001b[0m\u001b[0;34m,\u001b[0m \u001b[0mstderr\u001b[0m\u001b[0;34m=\u001b[0m\u001b[0merr\u001b[0m\u001b[0;34m)\u001b[0m\u001b[0;34m\u001b[0m\u001b[0;34m\u001b[0m\u001b[0m\n\u001b[0m\u001b[1;32m    246\u001b[0m \u001b[0;34m\u001b[0m\u001b[0m\n\u001b[1;32m    247\u001b[0m     \u001b[0;32mdef\u001b[0m \u001b[0m_run_script\u001b[0m\u001b[0;34m(\u001b[0m\u001b[0mself\u001b[0m\u001b[0;34m,\u001b[0m \u001b[0mp\u001b[0m\u001b[0;34m,\u001b[0m \u001b[0mcell\u001b[0m\u001b[0;34m,\u001b[0m \u001b[0mto_close\u001b[0m\u001b[0;34m)\u001b[0m\u001b[0;34m:\u001b[0m\u001b[0;34m\u001b[0m\u001b[0;34m\u001b[0m\u001b[0m\n",
      "\u001b[0;31mCalledProcessError\u001b[0m: Command 'b'brew install lynx\\n'' returned non-zero exit status 127."
     ]
    }
   ],
   "source": [
    "%%sh \n",
    "brew install lynx"
   ]
  },
  {
   "cell_type": "code",
   "execution_count": 36,
   "metadata": {
    "collapsed": true,
    "jupyter": {
     "outputs_hidden": true
    },
    "tags": []
   },
   "outputs": [
    {
     "name": "stderr",
     "output_type": "stream",
     "text": [
      "sh: line 2: lynx: command not found\n"
     ]
    },
    {
     "ename": "CalledProcessError",
     "evalue": "Command 'b\"## uncomment by removing '#' in the next line and try executing this cell by pressing Ctrl-Enter to see if lynx is installed\\nlynx --help\\n\"' returned non-zero exit status 127.",
     "output_type": "error",
     "traceback": [
      "\u001b[0;31m---------------------------------------------------------------------------\u001b[0m",
      "\u001b[0;31mCalledProcessError\u001b[0m                        Traceback (most recent call last)",
      "\u001b[0;32m<ipython-input-36-52260299c08c>\u001b[0m in \u001b[0;36m<module>\u001b[0;34m\u001b[0m\n\u001b[0;32m----> 1\u001b[0;31m \u001b[0mget_ipython\u001b[0m\u001b[0;34m(\u001b[0m\u001b[0;34m)\u001b[0m\u001b[0;34m.\u001b[0m\u001b[0mrun_cell_magic\u001b[0m\u001b[0;34m(\u001b[0m\u001b[0;34m'sh'\u001b[0m\u001b[0;34m,\u001b[0m \u001b[0;34m''\u001b[0m\u001b[0;34m,\u001b[0m \u001b[0;34m\"## uncomment by removing '#' in the next line and try executing this cell by pressing Ctrl-Enter to see if lynx is installed\\nlynx --help\\n\"\u001b[0m\u001b[0;34m)\u001b[0m\u001b[0;34m\u001b[0m\u001b[0;34m\u001b[0m\u001b[0m\n\u001b[0m",
      "\u001b[0;32m~/opt/anaconda3/lib/python3.8/site-packages/IPython/core/interactiveshell.py\u001b[0m in \u001b[0;36mrun_cell_magic\u001b[0;34m(self, magic_name, line, cell)\u001b[0m\n\u001b[1;32m   2380\u001b[0m             \u001b[0;32mwith\u001b[0m \u001b[0mself\u001b[0m\u001b[0;34m.\u001b[0m\u001b[0mbuiltin_trap\u001b[0m\u001b[0;34m:\u001b[0m\u001b[0;34m\u001b[0m\u001b[0;34m\u001b[0m\u001b[0m\n\u001b[1;32m   2381\u001b[0m                 \u001b[0margs\u001b[0m \u001b[0;34m=\u001b[0m \u001b[0;34m(\u001b[0m\u001b[0mmagic_arg_s\u001b[0m\u001b[0;34m,\u001b[0m \u001b[0mcell\u001b[0m\u001b[0;34m)\u001b[0m\u001b[0;34m\u001b[0m\u001b[0;34m\u001b[0m\u001b[0m\n\u001b[0;32m-> 2382\u001b[0;31m                 \u001b[0mresult\u001b[0m \u001b[0;34m=\u001b[0m \u001b[0mfn\u001b[0m\u001b[0;34m(\u001b[0m\u001b[0;34m*\u001b[0m\u001b[0margs\u001b[0m\u001b[0;34m,\u001b[0m \u001b[0;34m**\u001b[0m\u001b[0mkwargs\u001b[0m\u001b[0;34m)\u001b[0m\u001b[0;34m\u001b[0m\u001b[0;34m\u001b[0m\u001b[0m\n\u001b[0m\u001b[1;32m   2383\u001b[0m             \u001b[0;32mreturn\u001b[0m \u001b[0mresult\u001b[0m\u001b[0;34m\u001b[0m\u001b[0;34m\u001b[0m\u001b[0m\n\u001b[1;32m   2384\u001b[0m \u001b[0;34m\u001b[0m\u001b[0m\n",
      "\u001b[0;32m~/opt/anaconda3/lib/python3.8/site-packages/IPython/core/magics/script.py\u001b[0m in \u001b[0;36mnamed_script_magic\u001b[0;34m(line, cell)\u001b[0m\n\u001b[1;32m    140\u001b[0m             \u001b[0;32melse\u001b[0m\u001b[0;34m:\u001b[0m\u001b[0;34m\u001b[0m\u001b[0;34m\u001b[0m\u001b[0m\n\u001b[1;32m    141\u001b[0m                 \u001b[0mline\u001b[0m \u001b[0;34m=\u001b[0m \u001b[0mscript\u001b[0m\u001b[0;34m\u001b[0m\u001b[0;34m\u001b[0m\u001b[0m\n\u001b[0;32m--> 142\u001b[0;31m             \u001b[0;32mreturn\u001b[0m \u001b[0mself\u001b[0m\u001b[0;34m.\u001b[0m\u001b[0mshebang\u001b[0m\u001b[0;34m(\u001b[0m\u001b[0mline\u001b[0m\u001b[0;34m,\u001b[0m \u001b[0mcell\u001b[0m\u001b[0;34m)\u001b[0m\u001b[0;34m\u001b[0m\u001b[0;34m\u001b[0m\u001b[0m\n\u001b[0m\u001b[1;32m    143\u001b[0m \u001b[0;34m\u001b[0m\u001b[0m\n\u001b[1;32m    144\u001b[0m         \u001b[0;31m# write a basic docstring:\u001b[0m\u001b[0;34m\u001b[0m\u001b[0;34m\u001b[0m\u001b[0;34m\u001b[0m\u001b[0m\n",
      "\u001b[0;32m<decorator-gen-103>\u001b[0m in \u001b[0;36mshebang\u001b[0;34m(self, line, cell)\u001b[0m\n",
      "\u001b[0;32m~/opt/anaconda3/lib/python3.8/site-packages/IPython/core/magic.py\u001b[0m in \u001b[0;36m<lambda>\u001b[0;34m(f, *a, **k)\u001b[0m\n\u001b[1;32m    185\u001b[0m     \u001b[0;31m# but it's overkill for just that one bit of state.\u001b[0m\u001b[0;34m\u001b[0m\u001b[0;34m\u001b[0m\u001b[0;34m\u001b[0m\u001b[0m\n\u001b[1;32m    186\u001b[0m     \u001b[0;32mdef\u001b[0m \u001b[0mmagic_deco\u001b[0m\u001b[0;34m(\u001b[0m\u001b[0marg\u001b[0m\u001b[0;34m)\u001b[0m\u001b[0;34m:\u001b[0m\u001b[0;34m\u001b[0m\u001b[0;34m\u001b[0m\u001b[0m\n\u001b[0;32m--> 187\u001b[0;31m         \u001b[0mcall\u001b[0m \u001b[0;34m=\u001b[0m \u001b[0;32mlambda\u001b[0m \u001b[0mf\u001b[0m\u001b[0;34m,\u001b[0m \u001b[0;34m*\u001b[0m\u001b[0ma\u001b[0m\u001b[0;34m,\u001b[0m \u001b[0;34m**\u001b[0m\u001b[0mk\u001b[0m\u001b[0;34m:\u001b[0m \u001b[0mf\u001b[0m\u001b[0;34m(\u001b[0m\u001b[0;34m*\u001b[0m\u001b[0ma\u001b[0m\u001b[0;34m,\u001b[0m \u001b[0;34m**\u001b[0m\u001b[0mk\u001b[0m\u001b[0;34m)\u001b[0m\u001b[0;34m\u001b[0m\u001b[0;34m\u001b[0m\u001b[0m\n\u001b[0m\u001b[1;32m    188\u001b[0m \u001b[0;34m\u001b[0m\u001b[0m\n\u001b[1;32m    189\u001b[0m         \u001b[0;32mif\u001b[0m \u001b[0mcallable\u001b[0m\u001b[0;34m(\u001b[0m\u001b[0marg\u001b[0m\u001b[0;34m)\u001b[0m\u001b[0;34m:\u001b[0m\u001b[0;34m\u001b[0m\u001b[0;34m\u001b[0m\u001b[0m\n",
      "\u001b[0;32m~/opt/anaconda3/lib/python3.8/site-packages/IPython/core/magics/script.py\u001b[0m in \u001b[0;36mshebang\u001b[0;34m(self, line, cell)\u001b[0m\n\u001b[1;32m    243\u001b[0m             \u001b[0msys\u001b[0m\u001b[0;34m.\u001b[0m\u001b[0mstderr\u001b[0m\u001b[0;34m.\u001b[0m\u001b[0mflush\u001b[0m\u001b[0;34m(\u001b[0m\u001b[0;34m)\u001b[0m\u001b[0;34m\u001b[0m\u001b[0;34m\u001b[0m\u001b[0m\n\u001b[1;32m    244\u001b[0m         \u001b[0;32mif\u001b[0m \u001b[0margs\u001b[0m\u001b[0;34m.\u001b[0m\u001b[0mraise_error\u001b[0m \u001b[0;32mand\u001b[0m \u001b[0mp\u001b[0m\u001b[0;34m.\u001b[0m\u001b[0mreturncode\u001b[0m\u001b[0;34m!=\u001b[0m\u001b[0;36m0\u001b[0m\u001b[0;34m:\u001b[0m\u001b[0;34m\u001b[0m\u001b[0;34m\u001b[0m\u001b[0m\n\u001b[0;32m--> 245\u001b[0;31m             \u001b[0;32mraise\u001b[0m \u001b[0mCalledProcessError\u001b[0m\u001b[0;34m(\u001b[0m\u001b[0mp\u001b[0m\u001b[0;34m.\u001b[0m\u001b[0mreturncode\u001b[0m\u001b[0;34m,\u001b[0m \u001b[0mcell\u001b[0m\u001b[0;34m,\u001b[0m \u001b[0moutput\u001b[0m\u001b[0;34m=\u001b[0m\u001b[0mout\u001b[0m\u001b[0;34m,\u001b[0m \u001b[0mstderr\u001b[0m\u001b[0;34m=\u001b[0m\u001b[0merr\u001b[0m\u001b[0;34m)\u001b[0m\u001b[0;34m\u001b[0m\u001b[0;34m\u001b[0m\u001b[0m\n\u001b[0m\u001b[1;32m    246\u001b[0m \u001b[0;34m\u001b[0m\u001b[0m\n\u001b[1;32m    247\u001b[0m     \u001b[0;32mdef\u001b[0m \u001b[0m_run_script\u001b[0m\u001b[0;34m(\u001b[0m\u001b[0mself\u001b[0m\u001b[0;34m,\u001b[0m \u001b[0mp\u001b[0m\u001b[0;34m,\u001b[0m \u001b[0mcell\u001b[0m\u001b[0;34m,\u001b[0m \u001b[0mto_close\u001b[0m\u001b[0;34m)\u001b[0m\u001b[0;34m:\u001b[0m\u001b[0;34m\u001b[0m\u001b[0;34m\u001b[0m\u001b[0m\n",
      "\u001b[0;31mCalledProcessError\u001b[0m: Command 'b\"## uncomment by removing '#' in the next line and try executing this cell by pressing Ctrl-Enter to see if lynx is installed\\nlynx --help\\n\"' returned non-zero exit status 127."
     ]
    }
   ],
   "source": [
    "%%sh\n",
    "## uncomment by removing '#' in the next line and try executing this cell by pressing Ctrl-Enter to see if lynx is installed\n",
    "lynx --help"
   ]
  },
  {
   "cell_type": "markdown",
   "metadata": {},
   "source": [
    "So using `lynx` is not that difficult. Suppose you want to dump the contents of [https://lamastex.github.io/research/#available-student-projects](https://lamastex.github.io/research/#available-student-projects) to `stdout` or standard out, we can do the following:"
   ]
  },
  {
   "cell_type": "code",
   "execution_count": null,
   "metadata": {},
   "outputs": [],
   "source": [
    "%%sh\n",
    "## uncomment by removing '#' in the next line and try executing this cell if lynx is installed\n",
    "#lynx --dump https://lamastex.github.io/research/#available-student-projects"
   ]
  },
  {
   "cell_type": "markdown",
   "metadata": {},
   "source": [
    "Hopefully, you had fun with BASH! Now let us put BASH to use."
   ]
  }
 ],
 "metadata": {
  "kernelspec": {
   "display_name": "Python 3",
   "language": "python",
   "name": "python3"
  },
  "language_info": {
   "codemirror_mode": {
    "name": "ipython",
    "version": 3
   },
   "file_extension": ".py",
   "mimetype": "text/x-python",
   "name": "python",
   "nbconvert_exporter": "python",
   "pygments_lexer": "ipython3",
   "version": "3.8.5"
  },
  "lx_course_instance": "2023",
  "lx_course_name": "Introduction to Data Science",
  "lx_course_number": "1MS041"
 },
 "nbformat": 4,
 "nbformat_minor": 4
}
