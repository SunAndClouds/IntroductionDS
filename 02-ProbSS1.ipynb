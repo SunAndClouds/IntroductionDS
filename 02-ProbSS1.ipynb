{
 "cells": [
  {
   "cell_type": "markdown",
   "id": "2b178012-ce35-491d-bd64-0d4022a32b9f",
   "metadata": {},
   "source": [
    "# Problem 5 Chapter 1"
   ]
  },
  {
   "cell_type": "code",
   "execution_count": null,
   "id": "90d53e32-9790-44ab-85ef-947f793163e4",
   "metadata": {},
   "outputs": [],
   "source": []
  },
  {
   "cell_type": "markdown",
   "id": "154f2787-6577-4403-8b81-d94fc6ce23cc",
   "metadata": {},
   "source": [
    "# Problem 10 Chapter 1"
   ]
  },
  {
   "cell_type": "code",
   "execution_count": null,
   "id": "c12ad9a0-3847-4745-8884-0d47168be72a",
   "metadata": {},
   "outputs": [],
   "source": []
  }
 ],
 "metadata": {
  "kernelspec": {
   "display_name": "Python 3",
   "language": "python",
   "name": "python3"
  },
  "language_info": {
   "codemirror_mode": {
    "name": "ipython",
    "version": 3
   },
   "file_extension": ".py",
   "mimetype": "text/x-python",
   "name": "python",
   "nbconvert_exporter": "python",
   "pygments_lexer": "ipython3",
   "version": "3.8.5"
  }
 },
 "nbformat": 4,
 "nbformat_minor": 5
}
